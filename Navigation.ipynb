{
 "cells": [
  {
   "cell_type": "markdown",
   "metadata": {},
   "source": [
    "# Navigation\n",
    "\n",
    "---\n",
    "\n",
    "In this notebook, you will learn how to use the Unity ML-Agents environment for the first project of the [Deep Reinforcement Learning Nanodegree](https://www.udacity.com/course/deep-reinforcement-learning-nanodegree--nd893).\n",
    "\n",
    "### 1. Start the Environment\n",
    "\n",
    "We begin by importing some necessary packages.  If the code cell below returns an error, please revisit the project instructions to double-check that you have installed [Unity ML-Agents](https://github.com/Unity-Technologies/ml-agents/blob/master/docs/Installation.md) and [NumPy](http://www.numpy.org/)."
   ]
  },
  {
   "cell_type": "code",
   "execution_count": 1,
   "metadata": {},
   "outputs": [],
   "source": [
    "from unityagents import UnityEnvironment\n",
    "import numpy as np"
   ]
  },
  {
   "cell_type": "markdown",
   "metadata": {},
   "source": [
    "Next, we will start the environment!  **_Before running the code cell below_**, change the `file_name` parameter to match the location of the Unity environment that you downloaded.\n",
    "\n",
    "- **Mac**: `\"path/to/Banana.app\"`\n",
    "- **Windows** (x86): `\"path/to/Banana_Windows_x86/Banana.exe\"`\n",
    "- **Windows** (x86_64): `\"path/to/Banana_Windows_x86_64/Banana.exe\"`\n",
    "- **Linux** (x86): `\"path/to/Banana_Linux/Banana.x86\"`\n",
    "- **Linux** (x86_64): `\"path/to/Banana_Linux/Banana.x86_64\"`\n",
    "- **Linux** (x86, headless): `\"path/to/Banana_Linux_NoVis/Banana.x86\"`\n",
    "- **Linux** (x86_64, headless): `\"path/to/Banana_Linux_NoVis/Banana.x86_64\"`\n",
    "\n",
    "For instance, if you are using a Mac, then you downloaded `Banana.app`.  If this file is in the same folder as the notebook, then the line below should appear as follows:\n",
    "```\n",
    "env = UnityEnvironment(file_name=\"Banana.app\")\n",
    "```"
   ]
  },
  {
   "cell_type": "code",
   "execution_count": 2,
   "metadata": {
    "scrolled": false
   },
   "outputs": [
    {
     "name": "stderr",
     "output_type": "stream",
     "text": [
      "INFO:unityagents:\n",
      "'Academy' started successfully!\n",
      "Unity Academy name: Academy\n",
      "        Number of Brains: 1\n",
      "        Number of External Brains : 1\n",
      "        Lesson number : 0\n",
      "        Reset Parameters :\n",
      "\t\t\n",
      "Unity brain name: BananaBrain\n",
      "        Number of Visual Observations (per agent): 0\n",
      "        Vector Observation space type: continuous\n",
      "        Vector Observation space size (per agent): 37\n",
      "        Number of stacked Vector Observation: 1\n",
      "        Vector Action space type: discrete\n",
      "        Vector Action space size (per agent): 4\n",
      "        Vector Action descriptions: , , , \n"
     ]
    }
   ],
   "source": [
    "env = UnityEnvironment(file_name=\"./Banana_Linux/Banana.x86_64\")"
   ]
  },
  {
   "cell_type": "markdown",
   "metadata": {},
   "source": [
    "Environments contain **_brains_** which are responsible for deciding the actions of their associated agents. Here we check for the first brain available, and set it as the default brain we will be controlling from Python."
   ]
  },
  {
   "cell_type": "code",
   "execution_count": 3,
   "metadata": {},
   "outputs": [],
   "source": [
    "# get the default brain\n",
    "brain_name = env.brain_names[0]\n",
    "brain = env.brains[brain_name]"
   ]
  },
  {
   "cell_type": "markdown",
   "metadata": {},
   "source": [
    "### 2. Examine the State and Action Spaces\n",
    "\n",
    "The simulation contains a single agent that navigates a large environment.  At each time step, it has four actions at its disposal:\n",
    "- `0` - walk forward \n",
    "- `1` - walk backward\n",
    "- `2` - turn left\n",
    "- `3` - turn right\n",
    "\n",
    "The state space has `37` dimensions and contains the agent's velocity, along with ray-based perception of objects around agent's forward direction.  A reward of `+1` is provided for collecting a yellow banana, and a reward of `-1` is provided for collecting a blue banana. \n",
    "\n",
    "Run the code cell below to print some information about the environment."
   ]
  },
  {
   "cell_type": "code",
   "execution_count": 4,
   "metadata": {},
   "outputs": [
    {
     "name": "stdout",
     "output_type": "stream",
     "text": [
      "Number of agents: 1\n",
      "Number of actions: 4\n",
      "States look like: [1.         0.         0.         0.         0.84408134 0.\n",
      " 0.         1.         0.         0.0748472  0.         1.\n",
      " 0.         0.         0.25755    1.         0.         0.\n",
      " 0.         0.74177343 0.         1.         0.         0.\n",
      " 0.25854847 0.         0.         1.         0.         0.09355672\n",
      " 0.         1.         0.         0.         0.31969345 0.\n",
      " 0.        ]\n",
      "States have length: 37\n"
     ]
    }
   ],
   "source": [
    "# reset the environment\n",
    "env_info = env.reset(train_mode=True)[brain_name]\n",
    "\n",
    "# number of agents in the environment\n",
    "print('Number of agents:', len(env_info.agents))\n",
    "\n",
    "# number of actions\n",
    "action_size = brain.vector_action_space_size\n",
    "print('Number of actions:', action_size)\n",
    "\n",
    "# examine the state space \n",
    "state = env_info.vector_observations[0]\n",
    "print('States look like:', state)\n",
    "state_size = len(state)\n",
    "print('States have length:', state_size)"
   ]
  },
  {
   "cell_type": "markdown",
   "metadata": {},
   "source": [
    "### 3. Take Random Actions in the Environment\n",
    "\n",
    "In the next code cell, you will learn how to use the Python API to control the agent and receive feedback from the environment.\n",
    "\n",
    "Once this cell is executed, you will watch the agent's performance, if it selects an action (uniformly) at random with each time step.  A window should pop up that allows you to observe the agent, as it moves through the environment.  \n",
    "\n",
    "Of course, as part of the project, you'll have to change the code so that the agent is able to use its experience to gradually choose better actions when interacting with the environment!"
   ]
  },
  {
   "cell_type": "code",
   "execution_count": 5,
   "metadata": {},
   "outputs": [
    {
     "name": "stdout",
     "output_type": "stream",
     "text": [
      "Step:  300\n",
      "Score: 0.0\n"
     ]
    }
   ],
   "source": [
    "env_info = env.reset(train_mode=False)[brain_name] # reset the environment\n",
    "state = env_info.vector_observations[0]            # get the current state\n",
    "score = 0                                          # initialize the score\n",
    "count_steps = 0\n",
    "done = False\n",
    "while not done:                                    # exit loop if episode finished\n",
    "    count_steps += 1\n",
    "    print(\"\\rStep: \", count_steps, end=\"\")\n",
    "    action = np.random.randint(action_size)        # select an action\n",
    "    env_info = env.step(action)[brain_name]        # send the action to the environment\n",
    "    next_state = env_info.vector_observations[0]   # get the next state\n",
    "    reward = env_info.rewards[0]                   # get the reward\n",
    "    done = env_info.local_done[0]                  # see if episode has finished\n",
    "    score += reward                                # update the score\n",
    "    state = next_state                             # roll over the state to next time step\n",
    "    \n",
    "print(\"\\nScore: {}\".format(score))"
   ]
  },
  {
   "cell_type": "markdown",
   "metadata": {},
   "source": [
    "When finished, you can close the environment."
   ]
  },
  {
   "cell_type": "code",
   "execution_count": 6,
   "metadata": {},
   "outputs": [],
   "source": [
    "env.close()"
   ]
  },
  {
   "cell_type": "markdown",
   "metadata": {},
   "source": [
    "### 4. It's Your Turn!\n",
    "\n",
    "Now it's your turn to train your own agent to solve the environment!  When training the environment, set `train_mode=True`, so that the line for resetting the environment looks like the following:\n",
    "```python\n",
    "env_info = env.reset(train_mode=True)[brain_name]\n",
    "```"
   ]
  },
  {
   "cell_type": "code",
   "execution_count": 7,
   "metadata": {},
   "outputs": [],
   "source": [
    "import random\n",
    "import torch\n",
    "import numpy as np\n",
    "from collections import deque\n",
    "import matplotlib.pyplot as plt\n",
    "%matplotlib inline"
   ]
  },
  {
   "cell_type": "code",
   "execution_count": 8,
   "metadata": {},
   "outputs": [
    {
     "name": "stdout",
     "output_type": "stream",
     "text": [
      "Working on device: cpu\n"
     ]
    }
   ],
   "source": [
    "import torch.nn as nn\n",
    "import time\n",
    "from dqn_agent import Agent\n",
    "\n",
    "agent = Agent(state_size=state_size, action_size=action_size, seed=0)\n",
    "\n",
    "\n",
    "def dqn(n_episodes=4000, eps_start=1.0, eps_end=0.01, eps_decay=0.995):\n",
    "    \"\"\"Deep Q-Learning.\n",
    "    \n",
    "    Params\n",
    "    ======\n",
    "        n_episodes (int): maximum number of training episodes\n",
    "        max_t (int): maximum number of timesteps per episode\n",
    "        eps_start (float): starting value of epsilon, for epsilon-greedy action selection\n",
    "        eps_end (float): minimum value of epsilon\n",
    "        eps_decay (float): multiplicative factor (per episode) for decreasing epsilon\n",
    "    \"\"\"\n",
    "    starting_time = time.time()        # for timing reasons we notice the starting time\n",
    "    last_time = starting_time          # time to see how long the last hundred episodes took\n",
    "    scores = []                        # list containing scores from each episode\n",
    "    scores_window = deque(maxlen=100)  # last 100 scores\n",
    "    eps = eps_start                    # initialize epsilon\n",
    "    max_score = 0.                     # initialize the maximal score to zero\n",
    "\n",
    "    for i_episode in range(1, n_episodes+1):\n",
    "        env_info = env.reset(train_mode=True)[brain_name] # reset the environment\n",
    "        state = env_info.vector_observations[0]            # get the current state\n",
    "        score = 0\n",
    "        done = False\n",
    "        while not done:                                    # do untill done\n",
    "            action = agent.act(state, eps)                 # select an action\n",
    "            env_info = env.step(action)[brain_name]        # send the action to the environment\n",
    "            next_state = env_info.vector_observations[0]   # get the next state\n",
    "            reward = env_info.rewards[0]                   # get the reward\n",
    "            done = env_info.local_done[0]                  # see if episode has finished\n",
    "            agent.step(state, action, reward, next_state, done)\n",
    "            state = next_state\n",
    "            score += reward\n",
    "            \n",
    "        scores_window.append(score)       # save most recent score\n",
    "        scores.append(score)              # save most recent score\n",
    "        eps = max(eps_end, eps_decay*eps) # decrease epsilon\n",
    "        print('\\rEpisode {}\\tAverage Score: {:.2f} \\t Time passed: {:.1f} mins'.format(i_episode, np.mean(scores_window), (time.time() - starting_time)/60.), end=\"\")\n",
    "        if i_episode % 100 == 0:            \n",
    "            print('\\rEpisode {}\\tAverage Score: {:.2f} \\tlast 100 Episodes took {:.1f} mins'.format(i_episode, np.mean(scores_window), (time.time() - last_time)/60.))\n",
    "            last_time = time.time()\n",
    "        if np.mean(scores_window)>=max(13., max_score):\n",
    "            print('\\nNew Maximum Average Score at {:d} episodes!\\tAverage Score: {:.2f} \\t Time passed: {:.1f} mins'.format(i_episode, np.mean(scores_window), (time.time() - starting_time)/60.))\n",
    "            torch.save(agent.qnetwork_local.state_dict(), 'checkpoint.pth')\n",
    "            max_score = np.mean(scores_window)\n",
    "    return scores"
   ]
  },
  {
   "cell_type": "code",
   "execution_count": 9,
   "metadata": {},
   "outputs": [
    {
     "name": "stderr",
     "output_type": "stream",
     "text": [
      "INFO:unityagents:\n",
      "'Academy' started successfully!\n",
      "Unity Academy name: Academy\n",
      "        Number of Brains: 1\n",
      "        Number of External Brains : 1\n",
      "        Lesson number : 0\n",
      "        Reset Parameters :\n",
      "\t\t\n",
      "Unity brain name: BananaBrain\n",
      "        Number of Visual Observations (per agent): 0\n",
      "        Vector Observation space type: continuous\n",
      "        Vector Observation space size (per agent): 37\n",
      "        Number of stacked Vector Observation: 1\n",
      "        Vector Action space type: discrete\n",
      "        Vector Action space size (per agent): 4\n",
      "        Vector Action descriptions: , , , \n"
     ]
    },
    {
     "name": "stdout",
     "output_type": "stream",
     "text": [
      "Episode 100\tAverage Score: 0.88 \tlast 100 Episodes took 1.5 mins\n",
      "Episode 200\tAverage Score: 4.10 \tlast 100 Episodes took 1.5 mins\n",
      "Episode 300\tAverage Score: 7.58 \tlast 100 Episodes took 1.5 mins\n",
      "Episode 400\tAverage Score: 10.00 \tlast 100 Episodes took 1.6 mins\n",
      "Episode 500\tAverage Score: 12.54 \tlast 100 Episodes took 1.5 mins\n",
      "Episode 530\tAverage Score: 13.03 \t Time passed: 8.2 mins\n",
      "New Maximum Average Score at 530 episodes!\tAverage Score: 13.03 \t Time passed: 8.2 mins\n",
      "Episode 544\tAverage Score: 13.05 \t Time passed: 8.4 mins\n",
      "New Maximum Average Score at 544 episodes!\tAverage Score: 13.05 \t Time passed: 8.4 mins\n",
      "Episode 545\tAverage Score: 13.10 \t Time passed: 8.5 mins\n",
      "New Maximum Average Score at 545 episodes!\tAverage Score: 13.10 \t Time passed: 8.5 mins\n",
      "Episode 546\tAverage Score: 13.21 \t Time passed: 8.5 mins\n",
      "New Maximum Average Score at 546 episodes!\tAverage Score: 13.21 \t Time passed: 8.5 mins\n",
      "Episode 547\tAverage Score: 13.25 \t Time passed: 8.5 mins\n",
      "New Maximum Average Score at 547 episodes!\tAverage Score: 13.25 \t Time passed: 8.5 mins\n",
      "Episode 548\tAverage Score: 13.25 \t Time passed: 8.5 mins\n",
      "New Maximum Average Score at 548 episodes!\tAverage Score: 13.25 \t Time passed: 8.5 mins\n",
      "Episode 555\tAverage Score: 13.27 \t Time passed: 8.6 mins\n",
      "New Maximum Average Score at 555 episodes!\tAverage Score: 13.27 \t Time passed: 8.6 mins\n",
      "Episode 556\tAverage Score: 13.32 \t Time passed: 8.6 mins\n",
      "New Maximum Average Score at 556 episodes!\tAverage Score: 13.32 \t Time passed: 8.6 mins\n",
      "Episode 557\tAverage Score: 13.35 \t Time passed: 8.6 mins\n",
      "New Maximum Average Score at 557 episodes!\tAverage Score: 13.35 \t Time passed: 8.6 mins\n",
      "Episode 558\tAverage Score: 13.38 \t Time passed: 8.7 mins\n",
      "New Maximum Average Score at 558 episodes!\tAverage Score: 13.38 \t Time passed: 8.7 mins\n",
      "Episode 559\tAverage Score: 13.41 \t Time passed: 8.7 mins\n",
      "New Maximum Average Score at 559 episodes!\tAverage Score: 13.41 \t Time passed: 8.7 mins\n",
      "Episode 561\tAverage Score: 13.43 \t Time passed: 8.7 mins\n",
      "New Maximum Average Score at 561 episodes!\tAverage Score: 13.43 \t Time passed: 8.7 mins\n",
      "Episode 585\tAverage Score: 13.45 \t Time passed: 9.1 mins\n",
      "New Maximum Average Score at 585 episodes!\tAverage Score: 13.45 \t Time passed: 9.1 mins\n",
      "Episode 590\tAverage Score: 13.49 \t Time passed: 9.2 mins\n",
      "New Maximum Average Score at 590 episodes!\tAverage Score: 13.49 \t Time passed: 9.2 mins\n",
      "Episode 591\tAverage Score: 13.54 \t Time passed: 9.2 mins\n",
      "New Maximum Average Score at 591 episodes!\tAverage Score: 13.54 \t Time passed: 9.2 mins\n",
      "Episode 592\tAverage Score: 13.66 \t Time passed: 9.2 mins\n",
      "New Maximum Average Score at 592 episodes!\tAverage Score: 13.66 \t Time passed: 9.2 mins\n",
      "Episode 594\tAverage Score: 13.67 \t Time passed: 9.2 mins\n",
      "New Maximum Average Score at 594 episodes!\tAverage Score: 13.67 \t Time passed: 9.2 mins\n",
      "Episode 595\tAverage Score: 13.72 \t Time passed: 9.2 mins\n",
      "New Maximum Average Score at 595 episodes!\tAverage Score: 13.72 \t Time passed: 9.2 mins\n",
      "Episode 600\tAverage Score: 13.61 \tlast 100 Episodes took 1.6 mins\n",
      "Episode 601\tAverage Score: 13.72 \t Time passed: 9.3 mins\n",
      "New Maximum Average Score at 601 episodes!\tAverage Score: 13.72 \t Time passed: 9.3 mins\n",
      "Episode 602\tAverage Score: 13.82 \t Time passed: 9.4 mins\n",
      "New Maximum Average Score at 602 episodes!\tAverage Score: 13.82 \t Time passed: 9.4 mins\n",
      "Episode 603\tAverage Score: 13.93 \t Time passed: 9.4 mins\n",
      "New Maximum Average Score at 603 episodes!\tAverage Score: 13.93 \t Time passed: 9.4 mins\n",
      "Episode 604\tAverage Score: 13.96 \t Time passed: 9.4 mins\n",
      "New Maximum Average Score at 604 episodes!\tAverage Score: 13.96 \t Time passed: 9.4 mins\n",
      "Episode 607\tAverage Score: 13.99 \t Time passed: 9.4 mins\n",
      "New Maximum Average Score at 607 episodes!\tAverage Score: 13.99 \t Time passed: 9.4 mins\n",
      "Episode 614\tAverage Score: 14.04 \t Time passed: 9.5 mins\n",
      "New Maximum Average Score at 614 episodes!\tAverage Score: 14.04 \t Time passed: 9.5 mins\n",
      "Episode 617\tAverage Score: 14.04 \t Time passed: 9.6 mins\n",
      "New Maximum Average Score at 617 episodes!\tAverage Score: 14.04 \t Time passed: 9.6 mins\n",
      "Episode 632\tAverage Score: 14.04 \t Time passed: 9.8 mins\n",
      "New Maximum Average Score at 632 episodes!\tAverage Score: 14.04 \t Time passed: 9.8 mins\n",
      "Episode 635\tAverage Score: 14.06 \t Time passed: 9.9 mins\n",
      "New Maximum Average Score at 635 episodes!\tAverage Score: 14.06 \t Time passed: 9.9 mins\n",
      "Episode 636\tAverage Score: 14.14 \t Time passed: 9.9 mins\n",
      "New Maximum Average Score at 636 episodes!\tAverage Score: 14.14 \t Time passed: 9.9 mins\n",
      "Episode 637\tAverage Score: 14.16 \t Time passed: 9.9 mins\n",
      "New Maximum Average Score at 637 episodes!\tAverage Score: 14.16 \t Time passed: 9.9 mins\n",
      "Episode 638\tAverage Score: 14.21 \t Time passed: 9.9 mins\n",
      "New Maximum Average Score at 638 episodes!\tAverage Score: 14.21 \t Time passed: 9.9 mins\n",
      "Episode 641\tAverage Score: 14.28 \t Time passed: 10.0 mins\n",
      "New Maximum Average Score at 641 episodes!\tAverage Score: 14.28 \t Time passed: 10.0 mins\n",
      "Episode 646\tAverage Score: 14.29 \t Time passed: 10.0 mins\n",
      "New Maximum Average Score at 646 episodes!\tAverage Score: 14.29 \t Time passed: 10.0 mins\n",
      "Episode 648\tAverage Score: 14.29 \t Time passed: 10.1 mins\n",
      "New Maximum Average Score at 648 episodes!\tAverage Score: 14.29 \t Time passed: 10.1 mins\n",
      "Episode 649\tAverage Score: 14.31 \t Time passed: 10.1 mins\n",
      "New Maximum Average Score at 649 episodes!\tAverage Score: 14.31 \t Time passed: 10.1 mins\n",
      "Episode 651\tAverage Score: 14.32 \t Time passed: 10.1 mins\n",
      "New Maximum Average Score at 651 episodes!\tAverage Score: 14.32 \t Time passed: 10.1 mins\n",
      "Episode 652\tAverage Score: 14.42 \t Time passed: 10.1 mins\n",
      "New Maximum Average Score at 652 episodes!\tAverage Score: 14.42 \t Time passed: 10.1 mins\n",
      "Episode 653\tAverage Score: 14.51 \t Time passed: 10.2 mins\n",
      "New Maximum Average Score at 653 episodes!\tAverage Score: 14.51 \t Time passed: 10.2 mins\n",
      "Episode 665\tAverage Score: 14.58 \t Time passed: 10.3 mins\n",
      "New Maximum Average Score at 665 episodes!\tAverage Score: 14.58 \t Time passed: 10.3 mins\n",
      "Episode 666\tAverage Score: 14.62 \t Time passed: 10.4 mins\n",
      "New Maximum Average Score at 666 episodes!\tAverage Score: 14.62 \t Time passed: 10.4 mins\n",
      "Episode 667\tAverage Score: 14.66 \t Time passed: 10.4 mins\n",
      "New Maximum Average Score at 667 episodes!\tAverage Score: 14.66 \t Time passed: 10.4 mins\n",
      "Episode 668\tAverage Score: 14.67 \t Time passed: 10.4 mins\n",
      "New Maximum Average Score at 668 episodes!\tAverage Score: 14.67 \t Time passed: 10.4 mins\n",
      "Episode 669\tAverage Score: 14.74 \t Time passed: 10.4 mins\n",
      "New Maximum Average Score at 669 episodes!\tAverage Score: 14.74 \t Time passed: 10.4 mins\n",
      "Episode 671\tAverage Score: 14.76 \t Time passed: 10.4 mins\n",
      "New Maximum Average Score at 671 episodes!\tAverage Score: 14.76 \t Time passed: 10.4 mins\n",
      "Episode 672\tAverage Score: 14.78 \t Time passed: 10.4 mins\n",
      "New Maximum Average Score at 672 episodes!\tAverage Score: 14.78 \t Time passed: 10.4 mins\n",
      "Episode 673\tAverage Score: 14.79 \t Time passed: 10.5 mins\n",
      "New Maximum Average Score at 673 episodes!\tAverage Score: 14.79 \t Time passed: 10.5 mins\n",
      "Episode 674\tAverage Score: 14.87 \t Time passed: 10.5 mins\n",
      "New Maximum Average Score at 674 episodes!\tAverage Score: 14.87 \t Time passed: 10.5 mins\n",
      "Episode 675\tAverage Score: 14.92 \t Time passed: 10.5 mins\n",
      "New Maximum Average Score at 675 episodes!\tAverage Score: 14.92 \t Time passed: 10.5 mins\n",
      "Episode 676\tAverage Score: 14.95 \t Time passed: 10.5 mins\n",
      "New Maximum Average Score at 676 episodes!\tAverage Score: 14.95 \t Time passed: 10.5 mins\n",
      "Episode 677\tAverage Score: 15.01 \t Time passed: 10.5 mins\n",
      "New Maximum Average Score at 677 episodes!\tAverage Score: 15.01 \t Time passed: 10.5 mins\n",
      "Episode 678\tAverage Score: 15.02 \t Time passed: 10.5 mins\n",
      "New Maximum Average Score at 678 episodes!\tAverage Score: 15.02 \t Time passed: 10.5 mins\n",
      "Episode 679\tAverage Score: 15.04 \t Time passed: 10.6 mins\n",
      "New Maximum Average Score at 679 episodes!\tAverage Score: 15.04 \t Time passed: 10.6 mins\n",
      "Episode 680\tAverage Score: 15.05 \t Time passed: 10.6 mins\n",
      "New Maximum Average Score at 680 episodes!\tAverage Score: 15.05 \t Time passed: 10.6 mins\n",
      "Episode 686\tAverage Score: 15.11 \t Time passed: 10.7 mins\n",
      "New Maximum Average Score at 686 episodes!\tAverage Score: 15.11 \t Time passed: 10.7 mins\n",
      "Episode 687\tAverage Score: 15.14 \t Time passed: 10.7 mins\n",
      "New Maximum Average Score at 687 episodes!\tAverage Score: 15.14 \t Time passed: 10.7 mins\n"
     ]
    },
    {
     "name": "stdout",
     "output_type": "stream",
     "text": [
      "Episode 699\tAverage Score: 15.15 \t Time passed: 10.9 mins\n",
      "New Maximum Average Score at 699 episodes!\tAverage Score: 15.15 \t Time passed: 10.9 mins\n",
      "Episode 700\tAverage Score: 15.10 \tlast 100 Episodes took 1.6 mins\n",
      "Episode 711\tAverage Score: 15.15 \t Time passed: 11.1 mins\n",
      "New Maximum Average Score at 711 episodes!\tAverage Score: 15.15 \t Time passed: 11.1 mins\n",
      "Episode 727\tAverage Score: 15.16 \t Time passed: 11.3 mins\n",
      "New Maximum Average Score at 727 episodes!\tAverage Score: 15.16 \t Time passed: 11.3 mins\n",
      "Episode 749\tAverage Score: 15.20 \t Time passed: 11.7 mins\n",
      "New Maximum Average Score at 749 episodes!\tAverage Score: 15.20 \t Time passed: 11.7 mins\n",
      "Episode 750\tAverage Score: 15.24 \t Time passed: 11.7 mins\n",
      "New Maximum Average Score at 750 episodes!\tAverage Score: 15.24 \t Time passed: 11.7 mins\n",
      "Episode 751\tAverage Score: 15.35 \t Time passed: 11.7 mins\n",
      "New Maximum Average Score at 751 episodes!\tAverage Score: 15.35 \t Time passed: 11.7 mins\n",
      "Episode 752\tAverage Score: 15.36 \t Time passed: 11.7 mins\n",
      "New Maximum Average Score at 752 episodes!\tAverage Score: 15.36 \t Time passed: 11.7 mins\n",
      "Episode 753\tAverage Score: 15.40 \t Time passed: 11.7 mins\n",
      "New Maximum Average Score at 753 episodes!\tAverage Score: 15.40 \t Time passed: 11.7 mins\n",
      "Episode 755\tAverage Score: 15.46 \t Time passed: 11.8 mins\n",
      "New Maximum Average Score at 755 episodes!\tAverage Score: 15.46 \t Time passed: 11.8 mins\n",
      "Episode 757\tAverage Score: 15.53 \t Time passed: 11.8 mins\n",
      "New Maximum Average Score at 757 episodes!\tAverage Score: 15.53 \t Time passed: 11.8 mins\n",
      "Episode 758\tAverage Score: 15.58 \t Time passed: 11.8 mins\n",
      "New Maximum Average Score at 758 episodes!\tAverage Score: 15.58 \t Time passed: 11.8 mins\n",
      "Episode 759\tAverage Score: 15.65 \t Time passed: 11.9 mins\n",
      "New Maximum Average Score at 759 episodes!\tAverage Score: 15.65 \t Time passed: 11.9 mins\n",
      "Episode 760\tAverage Score: 15.71 \t Time passed: 11.9 mins\n",
      "New Maximum Average Score at 760 episodes!\tAverage Score: 15.71 \t Time passed: 11.9 mins\n",
      "Episode 761\tAverage Score: 15.78 \t Time passed: 11.9 mins\n",
      "New Maximum Average Score at 761 episodes!\tAverage Score: 15.78 \t Time passed: 11.9 mins\n",
      "Episode 763\tAverage Score: 15.80 \t Time passed: 11.9 mins\n",
      "New Maximum Average Score at 763 episodes!\tAverage Score: 15.80 \t Time passed: 11.9 mins\n",
      "Episode 768\tAverage Score: 15.81 \t Time passed: 12.0 mins\n",
      "New Maximum Average Score at 768 episodes!\tAverage Score: 15.81 \t Time passed: 12.0 mins\n",
      "Episode 800\tAverage Score: 15.44 \tlast 100 Episodes took 1.6 mins\n",
      "Episode 834\tAverage Score: 15.84 \t Time passed: 13.0 mins\n",
      "New Maximum Average Score at 834 episodes!\tAverage Score: 15.84 \t Time passed: 13.0 mins\n",
      "Episode 835\tAverage Score: 15.85 \t Time passed: 13.0 mins\n",
      "New Maximum Average Score at 835 episodes!\tAverage Score: 15.85 \t Time passed: 13.0 mins\n",
      "Episode 836\tAverage Score: 15.87 \t Time passed: 13.1 mins\n",
      "New Maximum Average Score at 836 episodes!\tAverage Score: 15.87 \t Time passed: 13.1 mins\n",
      "Episode 883\tAverage Score: 15.91 \t Time passed: 13.8 mins\n",
      "New Maximum Average Score at 883 episodes!\tAverage Score: 15.91 \t Time passed: 13.8 mins\n",
      "Episode 884\tAverage Score: 16.00 \t Time passed: 13.8 mins\n",
      "New Maximum Average Score at 884 episodes!\tAverage Score: 16.00 \t Time passed: 13.8 mins\n",
      "Episode 885\tAverage Score: 16.05 \t Time passed: 13.9 mins\n",
      "New Maximum Average Score at 885 episodes!\tAverage Score: 16.05 \t Time passed: 13.9 mins\n",
      "Episode 886\tAverage Score: 16.06 \t Time passed: 13.9 mins\n",
      "New Maximum Average Score at 886 episodes!\tAverage Score: 16.06 \t Time passed: 13.9 mins\n",
      "Episode 887\tAverage Score: 16.07 \t Time passed: 13.9 mins\n",
      "New Maximum Average Score at 887 episodes!\tAverage Score: 16.07 \t Time passed: 13.9 mins\n",
      "Episode 888\tAverage Score: 16.13 \t Time passed: 13.9 mins\n",
      "New Maximum Average Score at 888 episodes!\tAverage Score: 16.13 \t Time passed: 13.9 mins\n",
      "Episode 900\tAverage Score: 15.88 \tlast 100 Episodes took 1.6 mins\n",
      "Episode 1000\tAverage Score: 14.97 \tlast 100 Episodes took 1.6 mins\n",
      "Episode 1100\tAverage Score: 15.13 \tlast 100 Episodes took 1.6 mins\n",
      "Episode 1179\tAverage Score: 16.18 \t Time passed: 18.7 mins\n",
      "New Maximum Average Score at 1179 episodes!\tAverage Score: 16.18 \t Time passed: 18.7 mins\n",
      "Episode 1193\tAverage Score: 16.18 \t Time passed: 18.9 mins\n",
      "New Maximum Average Score at 1193 episodes!\tAverage Score: 16.18 \t Time passed: 18.9 mins\n",
      "Episode 1194\tAverage Score: 16.24 \t Time passed: 19.0 mins\n",
      "New Maximum Average Score at 1194 episodes!\tAverage Score: 16.24 \t Time passed: 19.0 mins\n",
      "Episode 1195\tAverage Score: 16.27 \t Time passed: 19.0 mins\n",
      "New Maximum Average Score at 1195 episodes!\tAverage Score: 16.27 \t Time passed: 19.0 mins\n",
      "Episode 1197\tAverage Score: 16.30 \t Time passed: 19.0 mins\n",
      "New Maximum Average Score at 1197 episodes!\tAverage Score: 16.30 \t Time passed: 19.0 mins\n",
      "Episode 1200\tAverage Score: 16.06 \tlast 100 Episodes took 1.8 mins\n",
      "Episode 1291\tAverage Score: 16.34 \t Time passed: 20.5 mins\n",
      "New Maximum Average Score at 1291 episodes!\tAverage Score: 16.34 \t Time passed: 20.5 mins\n",
      "Episode 1300\tAverage Score: 16.27 \tlast 100 Episodes took 1.6 mins\n",
      "Episode 1306\tAverage Score: 16.39 \t Time passed: 20.7 mins\n",
      "New Maximum Average Score at 1306 episodes!\tAverage Score: 16.39 \t Time passed: 20.7 mins\n",
      "Episode 1307\tAverage Score: 16.42 \t Time passed: 20.8 mins\n",
      "New Maximum Average Score at 1307 episodes!\tAverage Score: 16.42 \t Time passed: 20.8 mins\n",
      "Episode 1308\tAverage Score: 16.49 \t Time passed: 20.8 mins\n",
      "New Maximum Average Score at 1308 episodes!\tAverage Score: 16.49 \t Time passed: 20.8 mins\n",
      "Episode 1313\tAverage Score: 16.51 \t Time passed: 20.9 mins\n",
      "New Maximum Average Score at 1313 episodes!\tAverage Score: 16.51 \t Time passed: 20.9 mins\n",
      "Episode 1317\tAverage Score: 16.58 \t Time passed: 20.9 mins\n",
      "New Maximum Average Score at 1317 episodes!\tAverage Score: 16.58 \t Time passed: 20.9 mins\n",
      "Episode 1318\tAverage Score: 16.58 \t Time passed: 20.9 mins\n",
      "New Maximum Average Score at 1318 episodes!\tAverage Score: 16.58 \t Time passed: 20.9 mins\n",
      "Episode 1319\tAverage Score: 16.63 \t Time passed: 20.9 mins\n",
      "New Maximum Average Score at 1319 episodes!\tAverage Score: 16.63 \t Time passed: 20.9 mins\n",
      "Episode 1320\tAverage Score: 16.79 \t Time passed: 21.0 mins\n",
      "New Maximum Average Score at 1320 episodes!\tAverage Score: 16.79 \t Time passed: 21.0 mins\n",
      "Episode 1321\tAverage Score: 16.81 \t Time passed: 21.0 mins\n",
      "New Maximum Average Score at 1321 episodes!\tAverage Score: 16.81 \t Time passed: 21.0 mins\n",
      "Episode 1329\tAverage Score: 16.83 \t Time passed: 21.1 mins\n",
      "New Maximum Average Score at 1329 episodes!\tAverage Score: 16.83 \t Time passed: 21.1 mins\n",
      "Episode 1330\tAverage Score: 16.83 \t Time passed: 21.1 mins\n",
      "New Maximum Average Score at 1330 episodes!\tAverage Score: 16.83 \t Time passed: 21.1 mins\n",
      "Episode 1331\tAverage Score: 16.88 \t Time passed: 21.1 mins\n",
      "New Maximum Average Score at 1331 episodes!\tAverage Score: 16.88 \t Time passed: 21.1 mins\n",
      "Episode 1332\tAverage Score: 16.89 \t Time passed: 21.2 mins\n",
      "New Maximum Average Score at 1332 episodes!\tAverage Score: 16.89 \t Time passed: 21.2 mins\n",
      "Episode 1365\tAverage Score: 16.95 \t Time passed: 21.7 mins\n",
      "New Maximum Average Score at 1365 episodes!\tAverage Score: 16.95 \t Time passed: 21.7 mins\n",
      "Episode 1400\tAverage Score: 16.39 \tlast 100 Episodes took 1.6 mins\n",
      "Episode 1500\tAverage Score: 15.69 \tlast 100 Episodes took 1.7 mins\n",
      "Episode 1600\tAverage Score: 14.83 \tlast 100 Episodes took 1.6 mins\n",
      "Episode 1700\tAverage Score: 15.61 \tlast 100 Episodes took 1.6 mins\n",
      "Episode 1800\tAverage Score: 15.77 \tlast 100 Episodes took 1.6 mins\n",
      "Episode 1900\tAverage Score: 15.22 \tlast 100 Episodes took 1.7 mins\n",
      "Episode 2000\tAverage Score: 15.85 \tlast 100 Episodes took 1.7 mins\n",
      "Episode 2100\tAverage Score: 16.22 \tlast 100 Episodes took 1.6 mins\n",
      "Episode 2200\tAverage Score: 15.07 \tlast 100 Episodes took 1.7 mins\n",
      "Episode 2300\tAverage Score: 15.40 \tlast 100 Episodes took 1.6 mins\n",
      "Episode 2400\tAverage Score: 15.96 \tlast 100 Episodes took 1.7 mins\n",
      "Episode 2500\tAverage Score: 15.92 \tlast 100 Episodes took 1.7 mins\n",
      "Episode 2600\tAverage Score: 15.53 \tlast 100 Episodes took 1.7 mins\n",
      "Episode 2700\tAverage Score: 15.70 \tlast 100 Episodes took 1.6 mins\n",
      "Episode 2800\tAverage Score: 15.73 \tlast 100 Episodes took 1.7 mins\n",
      "Episode 2900\tAverage Score: 16.07 \tlast 100 Episodes took 1.7 mins\n"
     ]
    },
    {
     "name": "stdout",
     "output_type": "stream",
     "text": [
      "Episode 3000\tAverage Score: 15.14 \tlast 100 Episodes took 1.6 mins\n",
      "Episode 3100\tAverage Score: 14.74 \tlast 100 Episodes took 1.6 mins\n",
      "Episode 3200\tAverage Score: 14.90 \tlast 100 Episodes took 1.6 mins\n",
      "Episode 3300\tAverage Score: 14.65 \tlast 100 Episodes took 1.7 mins\n",
      "Episode 3400\tAverage Score: 16.04 \tlast 100 Episodes took 1.7 mins\n",
      "Episode 3500\tAverage Score: 16.45 \tlast 100 Episodes took 1.6 mins\n",
      "Episode 3509\tAverage Score: 16.99 \t Time passed: 56.9 mins\n",
      "New Maximum Average Score at 3509 episodes!\tAverage Score: 16.99 \t Time passed: 56.9 mins\n",
      "Episode 3511\tAverage Score: 16.99 \t Time passed: 56.9 mins\n",
      "New Maximum Average Score at 3511 episodes!\tAverage Score: 16.99 \t Time passed: 56.9 mins\n",
      "Episode 3526\tAverage Score: 17.06 \t Time passed: 57.2 mins\n",
      "New Maximum Average Score at 3526 episodes!\tAverage Score: 17.06 \t Time passed: 57.2 mins\n",
      "Episode 3527\tAverage Score: 17.07 \t Time passed: 57.2 mins\n",
      "New Maximum Average Score at 3527 episodes!\tAverage Score: 17.07 \t Time passed: 57.2 mins\n",
      "Episode 3529\tAverage Score: 17.12 \t Time passed: 57.2 mins\n",
      "New Maximum Average Score at 3529 episodes!\tAverage Score: 17.12 \t Time passed: 57.2 mins\n",
      "Episode 3530\tAverage Score: 17.12 \t Time passed: 57.2 mins\n",
      "New Maximum Average Score at 3530 episodes!\tAverage Score: 17.12 \t Time passed: 57.2 mins\n",
      "Episode 3531\tAverage Score: 17.13 \t Time passed: 57.3 mins\n",
      "New Maximum Average Score at 3531 episodes!\tAverage Score: 17.13 \t Time passed: 57.3 mins\n",
      "Episode 3600\tAverage Score: 16.36 \tlast 100 Episodes took 1.5 mins\n",
      "Episode 3700\tAverage Score: 15.64 \tlast 100 Episodes took 1.6 mins\n",
      "Episode 3800\tAverage Score: 16.31 \tlast 100 Episodes took 1.6 mins\n",
      "Episode 3900\tAverage Score: 15.77 \tlast 100 Episodes took 1.6 mins\n",
      "Episode 4000\tAverage Score: 14.87 \tlast 100 Episodes took 1.7 mins\n"
     ]
    }
   ],
   "source": [
    "try:\n",
    "    env = UnityEnvironment(file_name=\"./Banana_Linux_NoVis/Banana.x86_64\")\n",
    "\n",
    "    # get the default brain\n",
    "    brain_name = env.brain_names[0]\n",
    "    brain = env.brains[brain_name]\n",
    "\n",
    "    scores = dqn()\n",
    "finally:\n",
    "    env.close()"
   ]
  },
  {
   "cell_type": "code",
   "execution_count": 10,
   "metadata": {},
   "outputs": [
    {
     "data": {
      "image/png": "[encoded data removed]",
      "text/plain": [
       "<matplotlib.figure.Figure at 0x7fed745cd668>"
      ]
     },
     "metadata": {},
     "output_type": "display_data"
    }
   ],
   "source": [
    "# plot the scores\n",
    "fig = plt.figure()\n",
    "ax = fig.add_subplot(111)\n",
    "plt.plot(np.arange(len(scores)), scores)\n",
    "plt.ylabel('Score')\n",
    "plt.xlabel('Episode #')\n",
    "# plt.show()\n",
    "# save the plot to a png file\n",
    "plt.savefig('learning_curve.png')"
   ]
  },
  {
   "cell_type": "markdown",
   "metadata": {},
   "source": [
    "### 4. The Performance of a Trained Agent\n",
    "\n",
    "Now we look at the trained agent"
   ]
  },
  {
   "cell_type": "code",
   "execution_count": 11,
   "metadata": {},
   "outputs": [
    {
     "name": "stderr",
     "output_type": "stream",
     "text": [
      "INFO:unityagents:\n",
      "'Academy' started successfully!\n",
      "Unity Academy name: Academy\n",
      "        Number of Brains: 1\n",
      "        Number of External Brains : 1\n",
      "        Lesson number : 0\n",
      "        Reset Parameters :\n",
      "\t\t\n",
      "Unity brain name: BananaBrain\n",
      "        Number of Visual Observations (per agent): 0\n",
      "        Vector Observation space type: continuous\n",
      "        Vector Observation space size (per agent): 37\n",
      "        Number of stacked Vector Observation: 1\n",
      "        Vector Action space type: discrete\n",
      "        Vector Action space size (per agent): 4\n",
      "        Vector Action descriptions: , , , \n"
     ]
    },
    {
     "name": "stdout",
     "output_type": "stream",
     "text": [
      "Working on device: cpu\n",
      "Score: 17.0\n"
     ]
    }
   ],
   "source": [
    "try:\n",
    "    env = UnityEnvironment(file_name=\"./Banana_Linux/Banana.x86_64\")\n",
    "\n",
    "    # get the default brain\n",
    "    brain_name = env.brain_names[0]\n",
    "    brain = env.brains[brain_name]\n",
    "\n",
    "    # initialize the agent\n",
    "    agent = Agent(state_size=state_size, action_size=action_size, seed=0)\n",
    "    # transferlerning from saved state and set to evaluate\n",
    "    agent.qnetwork_local.load_state_dict(torch.load('checkpoint.pth'))\n",
    "    agent.qnetwork_local.eval()\n",
    "\n",
    "    env_info = env.reset(train_mode=False)[brain_name] # reset the environment\n",
    "    state = env_info.vector_observations[0]            # get the current state\n",
    "    score = 0                                         # initialize the score\n",
    "    done = False\n",
    "    while not done:\n",
    "        action =  agent.act(state, 0.01)                 # select an action\n",
    "        env_info = env.step(action)[brain_name]        # send the action to the environment\n",
    "        next_state = env_info.vector_observations[0]   # get the next state\n",
    "        reward = env_info.rewards[0]                   # get the reward\n",
    "        done = env_info.local_done[0]                  # see if episode has finished\n",
    "        score += reward                                # update the score\n",
    "        state = next_state                             # roll over the state to next time step\n",
    "\n",
    "    \n",
    "    print(\"Score: {}\".format(score))\n",
    "\n",
    "finally:\n",
    "    env.close()"
   ]
  },
  {
   "cell_type": "code",
   "execution_count": null,
   "metadata": {},
   "outputs": [],
   "source": []
  },
  {
   "cell_type": "code",
   "execution_count": null,
   "metadata": {},
   "outputs": [],
   "source": []
  }
 ],
 "metadata": {
  "kernelspec": {
   "display_name": "Python 3",
   "language": "python",
   "name": "python3"
  },
  "language_info": {
   "codemirror_mode": {
    "name": "ipython",
    "version": 3
   },
   "file_extension": ".py",
   "mimetype": "text/x-python",
   "name": "python",
   "nbconvert_exporter": "python",
   "pygments_lexer": "ipython3",
   "version": "3.6.5"
  }
 },
 "nbformat": 4,
 "nbformat_minor": 2
}
